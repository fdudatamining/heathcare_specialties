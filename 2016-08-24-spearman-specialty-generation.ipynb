{
 "cells": [
  {
   "cell_type": "code",
   "execution_count": 1,
   "metadata": {
    "collapsed": false
   },
   "outputs": [
    {
     "name": "stderr",
     "output_type": "stream",
     "text": [
      "/home/ravirao/.pyenv/versions/anaconda3-4.0.0/lib/python3.5/site-packages/sklearn/lda.py:4: DeprecationWarning: lda.LDA has been moved to discriminant_analysis.LinearDiscriminantAnalysis in 0.17 and will be removed in 0.19\n",
      "  \"in 0.17 and will be removed in 0.19\", DeprecationWarning)\n",
      "/home/ravirao/.pyenv/versions/anaconda3-4.0.0/lib/python3.5/site-packages/sklearn/qda.py:4: DeprecationWarning: qda.QDA has been moved to discriminant_analysis.QuadraticDiscriminantAnalysis in 0.17 and will be removed in 0.19.\n",
      "  \"in 0.17 and will be removed in 0.19.\", DeprecationWarning)\n"
     ]
    }
   ],
   "source": [
    "import sqlite3\n",
    "import pandas as pd\n",
    "import numpy as np\n",
    "from sklearn import *\n",
    "from scipy.stats import *\n",
    "from framework.data import sql"
   ]
  },
  {
   "cell_type": "code",
   "execution_count": null,
   "metadata": {
    "collapsed": false
   },
   "outputs": [],
   "source": [
    "data = pd.read_sql('''\n",
    "select `Provider Number`, `Primary specialty`, `Graduation year`, `Total Performance Score`\n",
    "from hospital_practitioners\n",
    "''', sql)\n",
    "print(data.shape)"
   ]
  },
  {
   "cell_type": "code",
   "execution_count": 16,
   "metadata": {
    "collapsed": false
   },
   "outputs": [],
   "source": [
    "f = open('results.csv', 'w')\n",
    "print('Specialty', 'Spearman Value', 'Spearman PValue', 'R', 'R^2', 'Slope', 'Mean', 'Standard Deviation', sep=',', file=f)\n",
    "f.flush()\n",
    "for specialty, ind in data.groupby('Primary specialty').groups.items():\n",
    "    g = data.ix[ind, :].groupby('Graduation year')\n",
    "    year = np.array(list(g.groups.keys()))\n",
    "    years = year[:, np.newaxis]\n",
    "    std_score = g['Total Performance Score'].std()\n",
    "    mean_score = g['Total Performance Score'].mean()\n",
    "    \n",
    "    lr = linear_model.LinearRegression()\n",
    "    lr.fit(years, mean_score)\n",
    "\n",
    "    r2 = lr.score(years, mean_score)\n",
    "    r = r2**(1/2)\n",
    "    m = lr.coef_[0]\n",
    "    try:\n",
    "        shapiro_val = shapiro(mean_score)\n",
    "    except:\n",
    "        shapiro_val = None\n",
    "    spearman_val = spearmanr(years, mean_score)\n",
    "    \n",
    "    print(specialty,\n",
    "          '%0.3f' % (spearman_val.correlation),\n",
    "          '%0.5f' % (spearman_val.pvalue),\n",
    "          '%0.3f' % (r),\n",
    "          '%0.3f' % (r**2),\n",
    "          '%0.3f' % (m),\n",
    "          '%0.3f' % (mean_score.mean()),\n",
    "          '%0.3f' % (mean_score.std()),\n",
    "          sep=',',\n",
    "          file=f)\n",
    "    f.flush()\n",
    "f.close()"
   ]
  }
 ],
 "metadata": {
  "anaconda-cloud": {},
  "kernelspec": {
   "display_name": "Python 3",
   "language": "python",
   "name": "python3"
  },
  "language_info": {
   "codemirror_mode": {
    "name": "ipython",
    "version": 3
   },
   "file_extension": ".py",
   "mimetype": "text/x-python",
   "name": "python",
   "nbconvert_exporter": "python",
   "pygments_lexer": "ipython3",
   "version": "3.5.1"
  }
 },
 "nbformat": 4,
 "nbformat_minor": 0
}
